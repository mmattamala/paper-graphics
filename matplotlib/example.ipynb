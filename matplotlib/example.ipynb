{
 "cells": [
  {
   "cell_type": "markdown",
   "id": "9ae6438d",
   "metadata": {},
   "source": [
    "### Matplotlib Plotting example"
   ]
  },
  {
   "cell_type": "markdown",
   "id": "fc5bbe44",
   "metadata": {},
   "source": [
    "#### General imports"
   ]
  },
  {
   "cell_type": "code",
   "execution_count": null,
   "id": "6928aebe",
   "metadata": {},
   "outputs": [],
   "source": [
    "import numpy as np\n",
    "import matplotlib.pyplot as plt\n",
    "import seaborn as sns\n",
    "\n",
    "from matplotlib.colors import ListedColormap"
   ]
  },
  {
   "cell_type": "markdown",
   "id": "dc97b196",
   "metadata": {},
   "source": [
    "#### Graphics-related constants\n",
    "\n",
    "We first define some constants we will use across the plots"
   ]
  },
  {
   "cell_type": "code",
   "execution_count": null,
   "id": "65070656",
   "metadata": {},
   "outputs": [],
   "source": [
    "mm = 1 / 25.4     # conversion from millimeters to inches\n",
    "cm = 1 / 2.54     # conversion from centimeters to inches\n",
    "pt = 1 / 72.27    # conversion from points to inches\n",
    "\n",
    "# The values below are obtained from LaTeX, using \\the\\columnwidth and \\the\\textwidth\n",
    "PAPER_COLUMN = 245.71811  # points\n",
    "PAPER_TEXTWIDTH = 505.89  # points"
   ]
  },
  {
   "cell_type": "markdown",
   "id": "699eec78",
   "metadata": {},
   "source": [
    "#### Fonts setup"
   ]
  },
  {
   "cell_type": "code",
   "execution_count": null,
   "id": "e5e7d027",
   "metadata": {},
   "outputs": [],
   "source": [
    "# To set the font size\n",
    "plt.rcParams[\"font.size\"] = 8\n",
    "\n",
    "# To change the font's type to a font we have in our system\n",
    "plt.rcParams['font.family'] = 'Roboto'"
   ]
  },
  {
   "cell_type": "markdown",
   "id": "6f75936e",
   "metadata": {},
   "source": [
    "#### Prepare color palette"
   ]
  },
  {
   "cell_type": "code",
   "execution_count": null,
   "id": "05d5d50d",
   "metadata": {},
   "outputs": [],
   "source": [
    "# This is the default number of colors we'll use\n",
    "N_COLORS = 10\n",
    "\n",
    "# We define the color palette\n",
    "# We'll use the 'colorblind' palette available on seaborn, which is categorical\n",
    "# We don't define it as a colormap because it will not map continuous values to colors\n",
    "color_palette = sns.color_palette(\"colorblind\", n_colors=N_COLORS, as_cmap=False)\n",
    "\n",
    "# These are just some helpers to index the colors 'semantically' when making plots\n",
    "color_palette_str = [\n",
    "    \"blue\",\n",
    "    \"orange\",\n",
    "    \"green\",\n",
    "    \"red\",\n",
    "    \"pink\",\n",
    "    \"brown\",\n",
    "    \"light_pink\",\n",
    "    \"gray\",\n",
    "    \"yellow\",\n",
    "    \"light_blue\",\n",
    "]\n",
    "color_palette_from_str = {k: v for k, v in zip(color_palette_str, color_palette)}"
   ]
  },
  {
   "cell_type": "markdown",
   "id": "dd5b7bcf",
   "metadata": {},
   "source": [
    "We can inspect the colors exploiting the functionalities of Jupyter to plot matplotlib's `ListedColormap`s"
   ]
  },
  {
   "cell_type": "code",
   "execution_count": null,
   "id": "b5dd6164",
   "metadata": {},
   "outputs": [],
   "source": [
    "ListedColormap(color_palette)"
   ]
  },
  {
   "cell_type": "code",
   "execution_count": null,
   "id": "03a991ea",
   "metadata": {},
   "outputs": [],
   "source": [
    "ListedColormap(color_palette_from_str[\"green\"])"
   ]
  },
  {
   "cell_type": "markdown",
   "id": "f81c485c",
   "metadata": {},
   "source": [
    "Additionally I find it useful to make a 'grey' palette for lines or boxes"
   ]
  },
  {
   "cell_type": "code",
   "execution_count": null,
   "id": "9cb021a0",
   "metadata": {},
   "outputs": [],
   "source": [
    "grey_palette = sns.color_palette(\"Greys\", n_colors=N_COLORS+2)\n",
    "\n",
    "# This is a grey palette: 0 means white, 100 means black\n",
    "# This is arbitrary, you can design it in whatever way you want\n",
    "# The line below helps indexing \"10\" as '10% black', while \"80\" means '80% black\n",
    "grey_palette_from_str = {f\"{p}0\": v for p, v in enumerate(grey_palette)}\n",
    "\n",
    "# The stuff below is just to facilitate semantics\n",
    "grey_palette_from_str[\"black\"] = grey_palette_from_str[\"100\"]\n",
    "grey_palette_from_str[\"white\"] = grey_palette_from_str[\"00\"]"
   ]
  },
  {
   "cell_type": "code",
   "execution_count": null,
   "id": "01a9da2d",
   "metadata": {},
   "outputs": [],
   "source": [
    "ListedColormap(grey_palette)"
   ]
  },
  {
   "cell_type": "code",
   "execution_count": null,
   "id": "676db704",
   "metadata": {},
   "outputs": [],
   "source": [
    "ListedColormap(grey_palette_from_str[\"00\"])"
   ]
  },
  {
   "cell_type": "code",
   "execution_count": null,
   "id": "4a6dcfa4",
   "metadata": {},
   "outputs": [],
   "source": [
    "ListedColormap(grey_palette_from_str[\"black\"])"
   ]
  },
  {
   "cell_type": "markdown",
   "id": "482df130",
   "metadata": {},
   "source": [
    "#### Configuring and plotting"
   ]
  },
  {
   "cell_type": "code",
   "execution_count": null,
   "id": "b8b5b9f7",
   "metadata": {},
   "outputs": [],
   "source": [
    "\n",
    "plot_width = PAPER_COLUMN * pt # We use the constant to convert points in inches\n",
    "plot_height = 4 * cm           # We use this to convert the size to inches, as matplotlib uses\n",
    "resolution = 300               # 'DPI', but actually PPI\n",
    "\n",
    "\n",
    "fig, ax = plt.subplots(\n",
    "    1,     # num of vertical plots\n",
    "    1,     # num of horizontal plots\n",
    "    figsize=(plot_width, plot_height), # The size in inches\n",
    "    dpi=300,  # the resolution in PPI\n",
    "    constrained_layout=True, \n",
    ")\n",
    "\n",
    "# Axes\n",
    "ax.set_axisbelow(True)\n",
    "ax.grid(which=\"major\", color=grey_palette_from_str[\"20\"], linewidth=0.7)\n",
    "ax.grid(\n",
    "    which=\"minor\",\n",
    "    color=grey_palette_from_str[\"10\"],\n",
    "    linestyle=\":\",\n",
    "    linewidth=0.5,\n",
    ")\n",
    "ax.minorticks_on()\n",
    "\n",
    "# Fake data for plotting\n",
    "N = 1000\n",
    "t = np.linspace(0, 10, N)\n",
    "true_signal = np.sin(2*t)\n",
    "noisy_signal = true_signal + np.random.normal(loc=0, scale=0.5, size=N)\n",
    "\n",
    "# plot\n",
    "ax.plot(t, true_signal, \n",
    "    label=\"True signal\",\n",
    "    linewidth=1,\n",
    "    color=color_palette_from_str[\"blue\"],\n",
    "    zorder=3 # zorder allows to move the 'layer' of the plot. Higher numbers means 'more to the front'\n",
    ")\n",
    "# Plot noisy signal\n",
    "ax.scatter(t, noisy_signal, \n",
    "    label=\"Measured\",\n",
    "    linewidth=0.5,\n",
    "    s=1,\n",
    "    color=color_palette_from_str[\"orange\"],\n",
    "    zorder=1)\n",
    "\n",
    "# Legends\n",
    "# Here we create and move them to place them on top of the plot\n",
    "lgnd = ax.legend(edgecolor=(1, 1, 1, 0), framealpha=0.9, loc=(0, 1.03), ncol=3)\n",
    "\n",
    "# This changes the size of the line in the legend\n",
    "for handle in lgnd.get_lines():\n",
    "    handle.set_linewidth(5)\n",
    "\n",
    "# This changes the size of the markers (scatter plot) in the legend\n",
    "for handle in lgnd.legend_handles:\n",
    "    try:\n",
    "        handle.set_sizes([40.0])\n",
    "    except Exception as e:\n",
    "        print(e)\n",
    "\n",
    "ax.margins(x=0, y=0)\n",
    "ax.set_ylabel(\"Signal [m]\")\n",
    "ax.set_xlabel(\"Time [s]\")"
   ]
  },
  {
   "cell_type": "markdown",
   "id": "d3d067f3",
   "metadata": {},
   "source": [
    "#### Saving as PDF"
   ]
  },
  {
   "cell_type": "code",
   "execution_count": null,
   "id": "2c574362",
   "metadata": {},
   "outputs": [],
   "source": [
    "# Export\n",
    "fig.set_tight_layout(True)\n",
    "fig.savefig(\"example.pdf\")"
   ]
  },
  {
   "cell_type": "markdown",
   "id": "9155dcb9",
   "metadata": {},
   "source": [
    "#### Saving as PNG"
   ]
  },
  {
   "cell_type": "code",
   "execution_count": null,
   "id": "7b34c30f",
   "metadata": {},
   "outputs": [],
   "source": [
    "# Export\n",
    "fig.set_tight_layout(True)\n",
    "fig.savefig(\"example.png\")"
   ]
  }
 ],
 "metadata": {
  "kernelspec": {
   "display_name": "graphics",
   "language": "python",
   "name": "python3"
  },
  "language_info": {
   "codemirror_mode": {
    "name": "ipython",
    "version": 3
   },
   "file_extension": ".py",
   "mimetype": "text/x-python",
   "name": "python",
   "nbconvert_exporter": "python",
   "pygments_lexer": "ipython3",
   "version": "3.10.16"
  }
 },
 "nbformat": 4,
 "nbformat_minor": 5
}
